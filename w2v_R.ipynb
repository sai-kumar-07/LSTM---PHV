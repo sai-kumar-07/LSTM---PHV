{
  "nbformat": 4,
  "nbformat_minor": 0,
  "metadata": {
    "colab": {
      "provenance": [],
      "machine_shape": "hm"
    },
    "kernelspec": {
      "name": "ir",
      "display_name": "R"
    },
    "language_info": {
      "name": "R"
    }
  },
  "cells": [
    {
      "cell_type": "code",
      "execution_count": null,
      "metadata": {
        "id": "ft0kwjxdDsLI"
      },
      "outputs": [],
      "source": []
    },
    {
      "cell_type": "code",
      "source": [
        "a<-readLines(\"/content/drive/MyDrive/PPI_Dataset/Non_identical_sequences.txt\")\n",
        "total_lines<-length(a)"
      ],
      "metadata": {
        "id": "4UIEECTXFJh5"
      },
      "execution_count": null,
      "outputs": []
    },
    {
      "cell_type": "code",
      "source": [
        "b<-readLines(\"/content/drive/MyDrive/PPI_Dataset/dengue_ni_sequences.txt\")\n",
        "total_lines<-length(b)\n",
        "print(total_lines)"
      ],
      "metadata": {
        "id": "BhHjDio_OPv2",
        "outputId": "210c7d9e-8f5f-4b89-bfe3-010c6a7eef81",
        "colab": {
          "base_uri": "https://localhost:8080/"
        }
      },
      "execution_count": null,
      "outputs": [
        {
          "output_type": "stream",
          "name": "stdout",
          "text": [
            "[1] 148\n"
          ]
        }
      ]
    },
    {
      "cell_type": "code",
      "source": [
        "i<-2\n",
        "kmer_mat<-NULL\n",
        "while(i<=total_lines)\n",
        "{\n",
        "  seqs<-a[i]\n",
        "  m<-generate_4mers(seqs)\n",
        "  m_1<-paste(m,collapse=\",\")\n",
        "  t<-cbind(a[i-1],m_1)\n",
        "  kmer_mat<-rbind(kmer_mat,t)\n",
        "  i<-i+2\n",
        "}\n",
        "write.table(kmer_mat,\"/content/drive/MyDrive/PPI_Dataset/kmer_human_seqs.txt\",append=F,sep=\"\\t\",quote=F,row.names=F,col.names=F)"
      ],
      "metadata": {
        "id": "Ie-gJI_LI7tb"
      },
      "execution_count": null,
      "outputs": []
    },
    {
      "cell_type": "code",
      "source": [
        "i<-2\n",
        "kmer_mat<-NULL\n",
        "print(total_lines)\n",
        "while(i<=total_lines)\n",
        "{\n",
        "  seqs<-b[i]\n",
        "  m<-generate_4mers(seqs)\n",
        "  m_1<-paste(m,collapse=\",\")\n",
        "  t<-cbind(b[i-1],m_1)\n",
        "  kmer_mat<-rbind(kmer_mat,t)\n",
        "  i<-i+2\n",
        "}\n",
        "write.table(kmer_mat,\"/content/drive/MyDrive/PPI_Dataset/kmer_dengue_seqs.txt\",append=F,sep=\"\\t\",quote=F,row.names=F,col.names=F)"
      ],
      "metadata": {
        "id": "haQsGg1cOH43",
        "colab": {
          "base_uri": "https://localhost:8080/"
        },
        "outputId": "0291fc2f-3f28-4a05-9790-7b0728b68ee4"
      },
      "execution_count": null,
      "outputs": [
        {
          "output_type": "stream",
          "name": "stdout",
          "text": [
            "[1] 148\n"
          ]
        }
      ]
    },
    {
      "cell_type": "code",
      "source": [
        "install.packages(c(\"word2vec\", \"data.table\", \"tm\", \"stringr\", \"ggplot2\", \"ggrepel\",\"plotly\", \"umap\"))"
      ],
      "metadata": {
        "colab": {
          "base_uri": "https://localhost:8080/"
        },
        "id": "ON4IxIt8WbRY",
        "outputId": "f0fab803-3ef4-4a1c-964d-6cd5736b8dda"
      },
      "execution_count": null,
      "outputs": [
        {
          "output_type": "stream",
          "name": "stderr",
          "text": [
            "Installing packages into ‘/usr/local/lib/R/site-library’\n",
            "(as ‘lib’ is unspecified)\n",
            "\n",
            "also installing the dependencies ‘RcppTOML’, ‘here’, ‘png’, ‘RcppEigen’, ‘RcppProgress’, ‘NLP’, ‘slam’, ‘BH’, ‘lazyeval’, ‘crosstalk’, ‘reticulate’, ‘RSpectra’\n",
            "\n",
            "\n"
          ]
        }
      ]
    },
    {
      "cell_type": "code",
      "source": [
        "generate_4mers<-function(seq)\n",
        "{\n",
        "\t#Calculate the length of the sequence\n",
        "\tseq_length<-nchar(seq)\n",
        "  #Initialize an empty vector to store 4-mers\n",
        "  mers<-c()\n",
        "  #Loop to extract all 4-mers\n",
        "  for(j in 1:(seq_length - 3))\n",
        "  {\n",
        "    #Extract the 4-mer starting from position i\n",
        "  \tmers<-c(mers,substring(seq,j,j+3))\n",
        "  }\n",
        "  return(mers)\n",
        "}"
      ],
      "metadata": {
        "id": "1bXNdT-mF_tq"
      },
      "execution_count": null,
      "outputs": []
    },
    {
      "cell_type": "code",
      "source": [
        "library(word2vec)"
      ],
      "metadata": {
        "id": "IOy9CTpmXziJ"
      },
      "execution_count": null,
      "outputs": []
    },
    {
      "cell_type": "code",
      "source": [
        "install.packages(\"udpipe\")"
      ],
      "metadata": {
        "colab": {
          "base_uri": "https://localhost:8080/"
        },
        "id": "nba_WV9SeehP",
        "outputId": "786e85bf-6de8-4f4a-bf99-9afdb14ea715"
      },
      "execution_count": null,
      "outputs": [
        {
          "output_type": "stream",
          "name": "stderr",
          "text": [
            "Installing package into ‘/usr/local/lib/R/site-library’\n",
            "(as ‘lib’ is unspecified)\n",
            "\n"
          ]
        }
      ]
    },
    {
      "cell_type": "code",
      "source": [
        "kmer_mat_human<-read.table(\"/content/drive/MyDrive/PPI_Dataset/kmer_human_seqs.txt\",sep=\"\\t\",header=F)\n",
        "kmers_human<-as.vector(kmer_mat_human[,2])\n",
        "kmers_human<-gsub(\",\",\" \",kmers_human)\n",
        "length(kmers_human)"
      ],
      "metadata": {
        "colab": {
          "base_uri": "https://localhost:8080/",
          "height": 34
        },
        "id": "Shnkzuxoe8VG",
        "outputId": "6ebf7aea-d11d-45ea-dda4-165c32b85141"
      },
      "execution_count": null,
      "outputs": [
        {
          "output_type": "display_data",
          "data": {
            "text/html": [
              "43473"
            ],
            "text/markdown": "43473",
            "text/latex": "43473",
            "text/plain": [
              "[1] 43473"
            ]
          },
          "metadata": {}
        }
      ]
    },
    {
      "cell_type": "code",
      "source": [
        "set.seed(123456789)\n",
        "model<-word2vec(x=kmers_human,type=\"cbow\",dim=128,iter=1000)"
      ],
      "metadata": {
        "colab": {
          "base_uri": "https://localhost:8080/"
        },
        "id": "pdeluj8yfLDK",
        "outputId": "55802be5-8ee4-4067-b657-a48f22b9db90"
      },
      "execution_count": null,
      "outputs": [
        {
          "output_type": "stream",
          "name": "stderr",
          "text": [
            "Warning message in w2v_train(list(), character(), trainFile = file_train, modelFile = model, :\n",
            "“out-of-range values treated as 0 in coercion to raw”\n"
          ]
        }
      ]
    },
    {
      "cell_type": "code",
      "source": [
        "embedding_human<-as.matrix(model)\n",
        "#head(embedding)\n",
        "write.table(embedding_human,\"/content/drive/MyDrive/PPI_Dataset/kmers_embedding_human.txt\",sep=\"\\t\",append=F,quote=F,row.names=T,col.names=F)"
      ],
      "metadata": {
        "id": "RjQpAJiBiarj"
      },
      "execution_count": null,
      "outputs": []
    },
    {
      "cell_type": "code",
      "source": [
        "#Now the time for dengue"
      ],
      "metadata": {
        "id": "2T9rXCsJmAuE"
      },
      "execution_count": null,
      "outputs": []
    },
    {
      "cell_type": "code",
      "source": [
        "kmer_mat_den<-read.table(\"/content/drive/MyDrive/PPI_Dataset/kmer_dengue_seqs.txt\",sep=\"\\t\",header=F)\n",
        "kmers_den<-as.vector(kmer_mat_den[,2])\n",
        "kmers_den<-gsub(\",\",\" \",kmers_den)\n",
        "length(kmers_den)"
      ],
      "metadata": {
        "colab": {
          "base_uri": "https://localhost:8080/",
          "height": 34
        },
        "id": "qPzjIxr_mGkY",
        "outputId": "a3c42c76-2351-40f0-eec8-f86abcb6c338"
      },
      "execution_count": null,
      "outputs": [
        {
          "output_type": "display_data",
          "data": {
            "text/html": [
              "74"
            ],
            "text/markdown": "74",
            "text/latex": "74",
            "text/plain": [
              "[1] 74"
            ]
          },
          "metadata": {}
        }
      ]
    },
    {
      "cell_type": "code",
      "source": [
        "set.seed(123456789)\n",
        "model_den<-word2vec(x=kmers_den,type=\"cbow\",dim=128,iter=1000)"
      ],
      "metadata": {
        "colab": {
          "base_uri": "https://localhost:8080/"
        },
        "id": "c0wVX0SqnUlU",
        "outputId": "6ce16abb-9695-420a-c6ff-7d9c8fd9a81e"
      },
      "execution_count": null,
      "outputs": [
        {
          "output_type": "stream",
          "name": "stderr",
          "text": [
            "Warning message in w2v_train(list(), character(), trainFile = file_train, modelFile = model, :\n",
            "“out-of-range values treated as 0 in coercion to raw”\n"
          ]
        }
      ]
    },
    {
      "cell_type": "code",
      "source": [
        "embedding_den<-as.matrix(model_den)\n",
        "#head(embedding_den)\n",
        "write.table(embedding_den,\"/content/drive/MyDrive/PPI_Dataset/kmers_embedding_dengue.txt\",sep=\"\\t\",append=F,quote=F,row.names=T,col.names=F)"
      ],
      "metadata": {
        "id": "mo6VCoNInZVG"
      },
      "execution_count": null,
      "outputs": []
    },
    {
      "cell_type": "code",
      "source": [
        "#Now the time for human and dengue together"
      ],
      "metadata": {
        "id": "xxhhIzTsKLjA"
      },
      "execution_count": null,
      "outputs": []
    },
    {
      "cell_type": "code",
      "source": [
        "kmers_human_den<-append(kmers_human,kmers_den)\n",
        "length(kmers_human_den)"
      ],
      "metadata": {
        "colab": {
          "base_uri": "https://localhost:8080/",
          "height": 34
        },
        "id": "4v_NX32CKSsZ",
        "outputId": "2260d644-87f3-4f39-f23e-bb0e7b37590f"
      },
      "execution_count": null,
      "outputs": [
        {
          "output_type": "display_data",
          "data": {
            "text/html": [
              "43547"
            ],
            "text/markdown": "43547",
            "text/latex": "43547",
            "text/plain": [
              "[1] 43547"
            ]
          },
          "metadata": {}
        }
      ]
    },
    {
      "cell_type": "code",
      "source": [
        "set.seed(123456789)\n",
        "model_human_den<-word2vec(x=kmers_human_den,type=\"cbow\",dim=128,iter=1000)"
      ],
      "metadata": {
        "colab": {
          "base_uri": "https://localhost:8080/"
        },
        "id": "Q1oubqlMK8W2",
        "outputId": "07921f14-27fc-4b54-d5c3-5c1198e4e8a4"
      },
      "execution_count": null,
      "outputs": [
        {
          "output_type": "stream",
          "name": "stderr",
          "text": [
            "Warning message in w2v_train(list(), character(), trainFile = file_train, modelFile = model, :\n",
            "“out-of-range values treated as 0 in coercion to raw”\n"
          ]
        }
      ]
    },
    {
      "cell_type": "code",
      "source": [
        "embedding_human_den<-as.matrix(model_human_den)\n",
        "#head(embedding_den)\n",
        "write.table(embedding_human_den,\"/content/drive/MyDrive/PPI_Dataset/kmers_embedding_human_dengue.txt\",sep=\"\\t\",append=F,quote=F,row.names=T,col.names=F)"
      ],
      "metadata": {
        "id": "tV0J_jdKLMKW"
      },
      "execution_count": null,
      "outputs": []
    }
  ]
}